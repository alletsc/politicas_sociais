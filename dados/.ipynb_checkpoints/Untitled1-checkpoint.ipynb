{
 "cells": [
  {
   "cell_type": "code",
   "execution_count": null,
   "id": "9875116f",
   "metadata": {},
   "outputs": [],
   "source": [
    "import pandas as pd"
   ]
  }
 ],
 "metadata": {
  "kernelspec": {
   "display_name": "geopandas_alura",
   "language": "python",
   "name": "geopandas_alura"
  }
 },
 "nbformat": 4,
 "nbformat_minor": 5
}
